{
 "cells": [
  {
   "cell_type": "markdown",
   "metadata": {},
   "source": [
    "# Spectral analysis of 5000 movies network"
   ]
  },
  {
   "cell_type": "markdown",
   "metadata": {},
   "source": [
    "First of of all we prepare data frame using information from datasets."
   ]
  },
  {
   "cell_type": "code",
   "execution_count": 9,
   "metadata": {},
   "outputs": [],
   "source": [
    "#classical inputs\n",
    "import sys, os, pathlib\n",
    "#setting the path to folder with modules\n",
    "sys.path.insert(0, str(pathlib.Path(os.getcwd()).parents[0] / 'python'))\n",
    "from Load_Datasets import *"
   ]
  },
  {
   "cell_type": "code",
   "execution_count": 10,
   "metadata": {},
   "outputs": [],
   "source": [
    "#Loading information about movies\n",
    "FileAddress_movies =\"../Datasets/tmdb_5000_movies.csv\"\n",
    "FileAddress_credits=\"../Datasets/tmdb_5000_credits.csv\"\n",
    "Movies,Credentials  = Load_Datasets(FileAddress_movies,FileAddress_credits)\n",
    "Drops = ['homepage','status','id']\n",
    "for drop in Drops:\n",
    "    Movies = Movies.drop(drop, 1)        \n",
    "Movies.to_csv(\"../../Datasets/Transformed.csv\")"
   ]
  },
  {
   "cell_type": "code",
   "execution_count": 11,
   "metadata": {
    "collapsed": true
   },
   "outputs": [],
   "source": [
    "#read arrays from string using string.split(\",\")"
   ]
  }
 ],
 "metadata": {
  "kernelspec": {
   "display_name": "Python 3",
   "language": "python",
   "name": "python3"
  },
  "language_info": {
   "codemirror_mode": {
    "name": "ipython",
    "version": 3
   },
   "file_extension": ".py",
   "mimetype": "text/x-python",
   "name": "python",
   "nbconvert_exporter": "python",
   "pygments_lexer": "ipython3",
   "version": "3.6.2"
  }
 },
 "nbformat": 4,
 "nbformat_minor": 2
}
