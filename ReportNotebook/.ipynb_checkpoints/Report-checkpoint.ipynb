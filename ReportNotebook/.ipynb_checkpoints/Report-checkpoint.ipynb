{
 "cells": [
  {
   "cell_type": "markdown",
   "metadata": {},
   "source": [
    "# Spectral analysis of 5000 movies network"
   ]
  },
  {
   "cell_type": "markdown",
   "metadata": {},
   "source": [
    "First of of all we prepare data frame using information from datasets."
   ]
  },
  {
   "cell_type": "code",
   "execution_count": 9,
   "metadata": {},
   "outputs": [],
   "source": [
    "#classical inputs\n",
    "import sys, os, pathlib\n",
    "#setting the path to folder with modules\n",
    "sys.path.insert(0, str(pathlib.Path(os.getcwd()).parents[0] / 'python'))\n",
    "from Load_Datasets import *"
   ]
  },
  {
   "cell_type": "code",
   "execution_count": 12,
   "metadata": {},
   "outputs": [],
   "source": [
    "#Loading information about movies (transforming JSON files into pandas frame)\n",
    "FileAddress_movies =\"../Datasets/tmdb_5000_movies.csv\"\n",
    "FileAddress_credits=\"../Datasets/tmdb_5000_credits.csv\"\n",
    "Movies,Credentials  = Load_Datasets(FileAddress_movies,FileAddress_credits)\n",
    "Drops = ['homepage','status','id']\n",
    "for drop in Drops:\n",
    "    Movies = Movies.drop(drop, 1)        \n",
    "Movies.to_csv(\"../../Datasets/Transformed.csv\")"
   ]
  },
  {
   "cell_type": "code",
   "execution_count": 13,
   "metadata": {},
   "outputs": [
    {
     "data": {
      "text/plain": [
       "['budget',\n",
       " 'genres',\n",
       " 'keywords',\n",
       " 'original_language',\n",
       " 'original_title',\n",
       " 'overview',\n",
       " 'popularity',\n",
       " 'production_companies',\n",
       " 'production_countries',\n",
       " 'release_date',\n",
       " 'revenue',\n",
       " 'runtime',\n",
       " 'spoken_languages',\n",
       " 'tagline',\n",
       " 'vote_average',\n",
       " 'vote_count',\n",
       " 'actors',\n",
       " 'actor_gender',\n",
       " 'crew_names',\n",
       " 'crew_jobs',\n",
       " 'crew_departments']"
      ]
     },
     "execution_count": 13,
     "metadata": {},
     "output_type": "execute_result"
    }
   ],
   "source": [
    "#read arrays from string using string.split(\",\")\n",
    "#final categoties are below. There is a list of actors for each movies and list of their genders.\n",
    "#Also, there is a list of crew names and their job and departement\n",
    "\n",
    "list(Movies)"
   ]
  },
  {
   "cell_type": "code",
   "execution_count": 20,
   "metadata": {},
   "outputs": [
    {
     "name": "stdout",
     "output_type": "stream",
     "text": [
      "Avatar 1st crew member is Stephen E. Rivkin, he works at departement Editing, and his job is Editor\n"
     ]
    }
   ],
   "source": [
    "#Example \n",
    "print(\"Avatar 1st crew member is \"+Movies['crew_names']['Avatar'].split(\",\")[0]\n",
    "      +\", he works at departement \"+Movies['crew_departments']['Avatar'].split(\",\")[0]\n",
    "      +\", and his job is \"+Movies['crew_jobs']['Avatar'].split(\",\")[0])"
   ]
  }
 ],
 "metadata": {
  "kernelspec": {
   "display_name": "Python 3",
   "language": "python",
   "name": "python3"
  },
  "language_info": {
   "codemirror_mode": {
    "name": "ipython",
    "version": 3
   },
   "file_extension": ".py",
   "mimetype": "text/x-python",
   "name": "python",
   "nbconvert_exporter": "python",
   "pygments_lexer": "ipython3",
   "version": "3.6.2"
  }
 },
 "nbformat": 4,
 "nbformat_minor": 2
}
