{
 "cells": [
  {
   "cell_type": "markdown",
   "metadata": {},
   "source": [
    "# Spectral analysis of 5000 movies network\n",
    "### by Macko Vladimir, Novakovic Milica, Pavué Clément, Roussaky Mehdi"
   ]
  },
  {
   "cell_type": "markdown",
   "metadata": {},
   "source": [
    "## Goal of the Project:\n"
   ]
  },
  {
   "cell_type": "markdown",
   "metadata": {},
   "source": [
    "The aim is to create a graph in which nodes represent movies and edges represent similarity between the movies they are connecting. Described graph represents a network of movies and their relations using descriptions of 5000 selected movies leading to movie genre classification, suggestion of the best movie to represent the genre and quantifying how much $mainstream$ the movie is. "
   ]
  },
  {
   "cell_type": "markdown",
   "metadata": {},
   "source": [
    "## Data Acquisition:"
   ]
  },
  {
   "cell_type": "markdown",
   "metadata": {},
   "source": [
    "The starting point is TMDB 5000 Movie Dataset, available at Kaggle web page, contains information about 5000 selected movies provided by users and reviewers from The Movie Database (TMDb). Namely,\n",
    "each of the selected movies has the following attributes: budget, genres, homepage, id,\n",
    "keywords, original language, original title, overview, popularity, production companies,\n",
    "production coutries, release data, revenue and personnel aspects of cast and crew members listing their names, genders and role or contribution to the movie production and\n",
    "other details. The majority of the data is in the text format encoded in JSON structure. "
   ]
  },
  {
   "cell_type": "markdown",
   "metadata": {},
   "source": [
    "Since the files in JSON format are not practical for manipulations, one single dataset is prapered in Pandas data-frame structure from 2 original JSON datafiles. During this preparation the data is cleaned, e.g. unuseful collumns are removed and corrupted lines (which have missing movie title or other issues are removed), it was examined that there are no duplicates in the produced dataset."
   ]
  },
  {
   "cell_type": "code",
   "execution_count": 2,
   "metadata": {
    "collapsed": true
   },
   "outputs": [],
   "source": [
    "#classical inputs\n",
    "import sys, os, pathlib\n",
    "#setting the path to folder with modules\n",
    "sys.path.insert(0, str(pathlib.Path(os.getcwd()).parents[0] / 'python'))\n",
    "from Load_Datasets import *\n",
    "\n",
    "#Loading information about movies (transforming JSON files into pandas frame)\n",
    "FileAddress_movies =\"../Datasets/tmdb_5000_movies.csv\"\n",
    "FileAddress_credits=\"../Datasets/tmdb_5000_credits.csv\""
   ]
  },
  {
   "cell_type": "markdown",
   "metadata": {},
   "source": [
    "Custom made function $Load Datasets$ in order to convert JSON database from two input files to one single Pandas dataframe which contains movies as lines and movie attributes as columns. For more details refer to function $Load Datasets$ [implementation](https://github.com/ryancier/FinalProjectNTDS2017/blob/master/python/Load_Datasets.py)\n"
   ]
  },
  {
   "cell_type": "markdown",
   "metadata": {},
   "source": [
    "After the first examination of the data, the following movie attributes are considered no usefull for further analysis movie id, production status (since the vast majority of movies are are released and those which are not released have no actors published and hence are subsequently removed) and homepage (since homepage does address does not contains only information which is in the movie title)"
   ]
  },
  {
   "cell_type": "code",
   "execution_count": 3,
   "metadata": {},
   "outputs": [],
   "source": [
    "#Loading information about movies\n",
    "Movies = Load_Datasets(FileAddress_movies,FileAddress_credits)\n",
    "\n",
    "Drops = ['homepage','status','id']\n",
    "for drop in Drops:\n",
    "    Movies = Movies.drop(drop, 1)\n",
    "\n",
    "#pandas entries contain string arrays from which can be easily converted to lists using string.split(\",\")\n",
    "#new datafile is generated\n",
    "Movies.to_csv(\"../../Datasets/Transformed.csv\")"
   ]
  },
  {
   "cell_type": "markdown",
   "metadata": {},
   "source": [
    "Final categoties are below: There is a list of actors for each movies and list of their genders. Also, there is a list of crew names and their job and departement and other movie markers such as movie popularity, revenue, etc."
   ]
  },
  {
   "cell_type": "code",
   "execution_count": 6,
   "metadata": {},
   "outputs": [
    {
     "data": {
      "text/plain": [
       "['budget',\n",
       " 'genres',\n",
       " 'keywords',\n",
       " 'original_language',\n",
       " 'original_title',\n",
       " 'overview',\n",
       " 'popularity',\n",
       " 'production_companies',\n",
       " 'production_countries',\n",
       " 'release_date',\n",
       " 'revenue',\n",
       " 'runtime',\n",
       " 'spoken_languages',\n",
       " 'tagline',\n",
       " 'vote_average',\n",
       " 'vote_count',\n",
       " 'genres_id',\n",
       " 'keywords_id',\n",
       " 'production_companies_id',\n",
       " 'actors',\n",
       " 'actors_id',\n",
       " 'actor_gender',\n",
       " 'crew_names',\n",
       " 'crew_names_id',\n",
       " 'crew_jobs',\n",
       " 'crew_departments']"
      ]
     },
     "execution_count": 6,
     "metadata": {},
     "output_type": "execute_result"
    }
   ],
   "source": [
    "list(Movies)"
   ]
  },
  {
   "cell_type": "code",
   "execution_count": 4,
   "metadata": {},
   "outputs": [
    {
     "name": "stdout",
     "output_type": "stream",
     "text": [
      "Avatar 1st crew member is Stephen E. Rivkin, he works at departement Editing, and his job is Editor\n"
     ]
    }
   ],
   "source": [
    "#Example \n",
    "print(\"Avatar 1st crew member is \"+Movies['crew_names']['Avatar'].split(\",\")[0]\n",
    "      +\", he works at departement \"+Movies['crew_departments']['Avatar'].split(\",\")[0]\n",
    "      +\", and his job is \"+Movies['crew_jobs']['Avatar'].split(\",\")[0])"
   ]
  },
  {
   "cell_type": "markdown",
   "metadata": {},
   "source": [
    "After removal of all the movies which are incomplete or not fully released, there are 4809 remaining movie entries in the dataset"
   ]
  },
  {
   "cell_type": "code",
   "execution_count": 13,
   "metadata": {
    "scrolled": false
   },
   "outputs": [
    {
     "data": {
      "text/plain": [
       "4809"
      ]
     },
     "execution_count": 13,
     "metadata": {},
     "output_type": "execute_result"
    }
   ],
   "source": [
    "len(Movies)"
   ]
  },
  {
   "cell_type": "markdown",
   "metadata": {},
   "source": [
    "## Data Exploration"
   ]
  },
  {
   "cell_type": "code",
   "execution_count": null,
   "metadata": {
    "collapsed": true
   },
   "outputs": [],
   "source": [
    "# Visualization"
   ]
  },
  {
   "cell_type": "markdown",
   "metadata": {},
   "source": [
    "## Data Expoitation and Evaluation"
   ]
  },
  {
   "cell_type": "code",
   "execution_count": null,
   "metadata": {
    "collapsed": true
   },
   "outputs": [],
   "source": [
    "## first part / milestones 3 & 4"
   ]
  },
  {
   "cell_type": "code",
   "execution_count": 10,
   "metadata": {
    "collapsed": true
   },
   "outputs": [],
   "source": [
    "## edited text from proposal"
   ]
  },
  {
   "cell_type": "markdown",
   "metadata": {},
   "source": [
    "Since many movie attributes are not numerical, it is necessary to calculate overlap matrix for each movie attribute separately using a feature-specific overlap calculating function. Generated series of overlap matrices will be combined into one single weight matrix. However, the choice of combining method is arbitrary. Therefore, several examples of combining method are considered. "
   ]
  },
  {
   "cell_type": "code",
   "execution_count": null,
   "metadata": {
    "collapsed": true
   },
   "outputs": [],
   "source": [
    "## second part / milestones 5 & 6"
   ]
  },
  {
   "cell_type": "code",
   "execution_count": null,
   "metadata": {
    "collapsed": true
   },
   "outputs": [],
   "source": [
    "## edited text from proposal"
   ]
  },
  {
   "cell_type": "markdown",
   "metadata": {},
   "source": [
    "Once the graph is created, e.g. the weight matrix is established, it will be sparced using k-nearest neighbors and Laplacian matrix and its corresponding eigendecomposition will be calculated. The constructed graph is visualized using PCA and using Laplacian eigendecomposition in order to observe clusters of similarity in terms of genres, popularity etc. Furthermore, studying connectivity of the graph and degrees of nodes it is possible to estimate how\n",
    "mainstream a movie is. Also, a study of choice of a category representative may be conducted choosing a movie which represents the cluster in the best way. For example, if k-nearest neighbors method is utilized with k equal to 1, we can obtain disconnected graph with clusters of movies, and the node to which the most of the edges oriented  point, is appointed as a category representative. Using a category representative allows a viewer to get an impression on entire category based on watching only a single movie."
   ]
  },
  {
   "cell_type": "code",
   "execution_count": 11,
   "metadata": {
    "collapsed": true
   },
   "outputs": [],
   "source": [
    "#"
   ]
  },
  {
   "cell_type": "markdown",
   "metadata": {},
   "source": [
    "## Conclusion"
   ]
  },
  {
   "cell_type": "code",
   "execution_count": null,
   "metadata": {
    "collapsed": true
   },
   "outputs": [],
   "source": [
    "#?"
   ]
  }
 ],
 "metadata": {
  "kernelspec": {
   "display_name": "Python 3",
   "language": "python",
   "name": "python3"
  },
  "language_info": {
   "codemirror_mode": {
    "name": "ipython",
    "version": 3
   },
   "file_extension": ".py",
   "mimetype": "text/x-python",
   "name": "python",
   "nbconvert_exporter": "python",
   "pygments_lexer": "ipython3",
   "version": "3.6.2"
  }
 },
 "nbformat": 4,
 "nbformat_minor": 2
}
