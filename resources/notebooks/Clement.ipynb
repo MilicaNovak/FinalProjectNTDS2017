{
 "cells": [
  {
   "cell_type": "code",
   "execution_count": 3,
   "metadata": {
    "collapsed": true
   },
   "outputs": [],
   "source": [
    "#Imports\n",
    "import numpy as np\n",
    "import pandas as pd\n",
    "\n",
    "from tqdm import tqdm"
   ]
  },
  {
   "cell_type": "code",
   "execution_count": 4,
   "metadata": {
    "collapsed": true
   },
   "outputs": [],
   "source": [
    "#Data loading \n",
    "\n",
    "usefull_columns = ['genres','keywords','popularity']\n",
    "#TO BE REMOVED to let the user give the array as a parameter of the function. \n",
    "Movies = pd.read_csv(\"../../Datasets/Transformed.csv\",usecols=usefull_columns)\n",
    "\n",
    "#We reduce the dataframe size with only the usefull column to earn some computation time."
   ]
  },
  {
   "cell_type": "code",
   "execution_count": 5,
   "metadata": {
    "collapsed": true
   },
   "outputs": [],
   "source": [
    "#Constant definition\n",
    "\n",
    "#Cost added if the first genre is similar between two films\n",
    "first_genre = 5\n",
    "#Cost added if the secondary genre is similar between two films\n",
    "second_genre = 1\n",
    "#Cost added by similar keyword identical between two films\n",
    "keyword_cost = 1"
   ]
  },
  {
   "cell_type": "code",
   "execution_count": 11,
   "metadata": {
    "collapsed": true
   },
   "outputs": [],
   "source": [
    "def cost_function():\n",
    "    \"\"\"Define the cost between the film given in index and the others one.\"\"\"\n",
    "    costs = np.zeros([Movies.shape[0],Movies.shape[0]])\n",
    "    \n",
    "    for i in tqdm(range(Movies.shape[0])):\n",
    "        current_film = Movies.iloc[i]\n",
    "        genres_current = get_genres(current_film)\n",
    "        kw_current = get_keywords(current_film)\n",
    "        popularity_current = current_film['popularity']\n",
    "\n",
    "        for j in range(i,Movies.shape[0]):\n",
    "            cost = 0\n",
    "\n",
    "            b_film = Movies.iloc[j]\n",
    "            genres_b = get_genres(b_film)\n",
    "            popularity_b = b_film['popularity']\n",
    "            #First we only select the first genre to determine the similarity because it's more important that the other genre.\n",
    "            if len(genres_current) > 0  & len(genres_b) > 0:\n",
    "                if (genres_current[0] == genres_b[0]):\n",
    "                    cost += first_genre\n",
    "\n",
    "                #This give us the number of similar genres. We pop the first one because we already compare them.\n",
    "                cost += np.sum(np.in1d(genres_current,genres_b.pop(0),assume_unique='True')) * second_genre\n",
    "\n",
    "\n",
    "            kw_b = get_keywords(b_film)\n",
    "            #This give us the number of similar keywords.\n",
    "            cost += np.sum(np.in1d(kw_current,kw_b,assume_unique='True')) * keyword_cost\n",
    "            \n",
    "            \n",
    "            #impossible here because we ignore to much popularity\n",
    "            #cost = (cost * popularity_b/100) / (popularity_current/100)\n",
    "            costs[i,j] = cost\n",
    "            costs[j,i] = cost\n",
    "            \n",
    "            \n",
    "    return costs\n",
    "\n",
    "def get_genres(film):\n",
    "    genres = str(film['genres'])\n",
    "    if genres == 'nan':\n",
    "        return[]\n",
    "    else:\n",
    "        genres = genres.split(\",\")\n",
    "    return genres\n",
    "\n",
    "def get_keywords(film):\n",
    "    kw = str(film['keywords'])\n",
    "    if kw == 'nan':\n",
    "        return[]\n",
    "    else:\n",
    "        kw = kw.split(\",\")\n",
    "    return kw"
   ]
  },
  {
   "cell_type": "code",
   "execution_count": 12,
   "metadata": {},
   "outputs": [
    {
     "name": "stderr",
     "output_type": "stream",
     "text": [
      "100%|██████████| 4809/4809 [48:27<00:00,  1.65it/s]  \n"
     ]
    },
    {
     "name": "stdout",
     "output_type": "stream",
     "text": [
      "[[  0.   0.   0. ...,   0.   0.   0.]\n",
      " [  0.  17.   0. ...,   0.   0.   0.]\n",
      " [  0.   0.   8. ...,   0.   0.   0.]\n",
      " ..., \n",
      " [  0.   0.   0. ...,  10.   0.   0.]\n",
      " [  0.   0.   0. ...,   0.  11.   0.]\n",
      " [  0.   0.   0. ...,   0.   0.  16.]]\n"
     ]
    }
   ],
   "source": [
    "costs = cost_function()\n",
    "\n",
    "#Save the costs\n",
    "np.savez_compressed(\"../../Datasets/costs.npz\", costs, delimiter=\",\")\n",
    "print(costs)"
   ]
  },
  {
   "cell_type": "code",
   "execution_count": 42,
   "metadata": {
    "collapsed": true
   },
   "outputs": [],
   "source": [
    "#Save the costs\n",
    "np.savez_compressed(\"../../Datasets/costs.npz\", costs, delimiter=\",\")"
   ]
  }
 ],
 "metadata": {
  "kernelspec": {
   "display_name": "Python 3",
   "language": "python",
   "name": "python3"
  },
  "language_info": {
   "codemirror_mode": {
    "name": "ipython",
    "version": 3
   },
   "file_extension": ".py",
   "mimetype": "text/x-python",
   "name": "python",
   "nbconvert_exporter": "python",
   "pygments_lexer": "ipython3",
   "version": "3.6.1"
  }
 },
 "nbformat": 4,
 "nbformat_minor": 2
}
