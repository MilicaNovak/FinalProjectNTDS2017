{
 "cells": [
  {
   "cell_type": "code",
   "execution_count": 2,
   "metadata": {},
   "outputs": [],
   "source": [
    "#Imports\n",
    "import numpy as np\n",
    "import pandas as pd\n",
    "import networkx as nx\n",
    "import matplotlib.pyplot as plt\n",
    "#from tqdm import tqdm"
   ]
  },
  {
   "cell_type": "code",
   "execution_count": 4,
   "metadata": {},
   "outputs": [],
   "source": [
    "#Data loading \n",
    "\n",
    "usefull_columns = ['genres','keywords','popularity']\n",
    "#TO BE REMOVED to let the user give the array as a parameter of the function. \n",
    "Movies = pd.read_csv(\"../../Datasets/Transformed.csv\",usecols=usefull_columns)\n",
    "\n",
    "#We reduce the dataframe size with only the usefull column to earn some computation time."
   ]
  },
  {
   "cell_type": "code",
   "execution_count": 5,
   "metadata": {
    "collapsed": true
   },
   "outputs": [],
   "source": [
    "#Constant definition\n",
    "\n",
    "#Cost added if the first genre is similar between two films\n",
    "first_genre = 5\n",
    "#Cost added if the secondary genre is similar between two films\n",
    "second_genre = 1\n",
    "#Cost added by similar keyword identical between two films\n",
    "keyword_cost = 1"
   ]
  },
  {
   "cell_type": "code",
   "execution_count": 29,
   "metadata": {
    "collapsed": true
   },
   "outputs": [],
   "source": [
    "def cost_function():\n",
    "    \"\"\"Define the cost between the film given in index and the others one.\"\"\"\n",
    "    costs = np.zeros([Movies.shape[0],Movies.shape[0]])\n",
    "    \n",
    "    for i in tqdm(range(Movies.shape[0])):\n",
    "        current_film = Movies.iloc[i]\n",
    "        genres_current = get_genres(current_film)\n",
    "        kw_current = get_keywords(current_film)\n",
    "        popularity_current = current_film['popularity']\n",
    "\n",
    "        for j in range(i,Movies.shape[0]):\n",
    "            cost = 0\n",
    "\n",
    "            b_film = Movies.iloc[j]\n",
    "            genres_b = get_genres(b_film)\n",
    "            popularity_b = b_film['popularity']\n",
    "            #First we only select the first genre to determine the similarity because it's more important that the other genre.\n",
    "            if len(genres_current) > 0  & len(genres_b) > 0:\n",
    "                if (genres_current[0] == genres_b[0]):\n",
    "                    cost += first_genre\n",
    "\n",
    "                #This give us the number of similar genres. We pop the first one because we already compare them.\n",
    "                cost += np.sum(np.in1d(genres_current,genres_b.pop(0),assume_unique='True')) * second_genre\n",
    "\n",
    "\n",
    "            kw_b = get_keywords(b_film)\n",
    "            #This give us the number of similar keywords.\n",
    "            cost += np.sum(np.in1d(kw_current,kw_b,assume_unique='True')) * keyword_cost\n",
    "            \n",
    "            \n",
    "            #impossible here because we ignore to much popularity\n",
    "            #cost = (cost * popularity_b/100) / (popularity_current/100)\n",
    "            costs[i,j] = cost\n",
    "            costs[j,i] = cost\n",
    "            \n",
    "            \n",
    "    return costs\n",
    "\n",
    "def get_genres(film):\n",
    "    genres = str(film['genres'])\n",
    "    if genres == 'nan':\n",
    "        return[]\n",
    "    else:\n",
    "        genres = genres.split(\",\")\n",
    "    return genres\n",
    "\n",
    "def get_keywords(film):\n",
    "    kw = str(film['keywords'])\n",
    "    if kw == 'nan':\n",
    "        return[]\n",
    "    else:\n",
    "        kw = kw.split(\",\")\n",
    "    return kw"
   ]
  },
  {
   "cell_type": "code",
   "execution_count": 30,
   "metadata": {},
   "outputs": [
    {
     "name": "stderr",
     "output_type": "stream",
     "text": [
      "100%|██████████| 4809/4809 [56:50<00:00,  1.41it/s]  "
     ]
    },
    {
     "name": "stdout",
     "output_type": "stream",
     "text": [
      "[[  0.   0.   0. ...,   0.   0.   0.]\n",
      " [  0.  17.   0. ...,   0.   0.   0.]\n",
      " [  0.   0.   8. ...,   0.   0.   0.]\n",
      " ..., \n",
      " [  0.   0.   0. ...,  10.   0.   0.]\n",
      " [  0.   0.   0. ...,   0.  11.   0.]\n",
      " [  0.   0.   0. ...,   0.   0.  16.]]\n"
     ]
    },
    {
     "name": "stderr",
     "output_type": "stream",
     "text": [
      "\n"
     ]
    }
   ],
   "source": [
    "costs = cost_function()\n",
    "\n",
    "#Save the costs\n",
    "#np.savez_compressed(\"../../Datasets/costs.npz\", costs, delimiter=\",\")\n",
    "print(costs)"
   ]
  },
  {
   "cell_type": "code",
   "execution_count": 32,
   "metadata": {
    "collapsed": true
   },
   "outputs": [],
   "source": [
    "np.savez_compressed(\"../../Datasets/costs.npz\", costs, costs = costs)"
   ]
  },
  {
   "cell_type": "code",
   "execution_count": 7,
   "metadata": {},
   "outputs": [],
   "source": [
    "costs = np.load('../../Datasets/costs.npz')\n",
    "costs = costs['costs']"
   ]
  },
  {
   "cell_type": "code",
   "execution_count": 8,
   "metadata": {},
   "outputs": [
    {
     "name": "stderr",
     "output_type": "stream",
     "text": [
      "C:\\Users\\novak\\Anaconda3\\lib\\site-packages\\ipykernel_launcher.py:2: RuntimeWarning: invalid value encountered in true_divide\n",
      "  \n"
     ]
    }
   ],
   "source": [
    "for i in range(costs.shape[0]):\n",
    "    costs[i] = costs[i] / np.max(costs[i])\n",
    "    costs[i,i] = 0"
   ]
  },
  {
   "cell_type": "code",
   "execution_count": 9,
   "metadata": {},
   "outputs": [
    {
     "name": "stdout",
     "output_type": "stream",
     "text": [
      "[[  0.  nan  nan ...,  nan  nan  nan]\n",
      " [  0.   0.   0. ...,   0.   0.   0.]\n",
      " [  0.   0.   0. ...,   0.   0.   0.]\n",
      " ..., \n",
      " [  0.   0.   0. ...,   0.   0.   0.]\n",
      " [  0.   0.   0. ...,   0.   0.   0.]\n",
      " [  0.   0.   0. ...,   0.   0.   0.]]\n"
     ]
    }
   ],
   "source": [
    "print(costs)"
   ]
  },
  {
   "cell_type": "code",
   "execution_count": 10,
   "metadata": {
    "collapsed": true
   },
   "outputs": [],
   "source": [
    "cosine = np.load('../../Datasets/cosine_compressed.npz')\n",
    "cosine = cosine['cosine']\n",
    "for i in range(cosine.shape[0]):\n",
    "    cosine[i,i] = 0"
   ]
  },
  {
   "cell_type": "code",
   "execution_count": 94,
   "metadata": {
    "collapsed": true
   },
   "outputs": [],
   "source": [
    "weight = costs + cosine"
   ]
  },
  {
   "cell_type": "code",
   "execution_count": 95,
   "metadata": {},
   "outputs": [
    {
     "data": {
      "image/png": "[encoded data removed]",
      "text/plain": [
       "<matplotlib.figure.Figure at 0x29bdd883908>"
      ]
     },
     "metadata": {},
     "output_type": "display_data"
    }
   ],
   "source": [
    "# before sparsifying\n",
    "weight[np.isnan(weight)]=0\n",
    "plt.rcParams['figure.figsize'] = (17, 5)\n",
    "plt.hist(weight.reshape(-1), bins=50)\n",
    "plt.show()"
   ]
  },
  {
   "cell_type": "code",
   "execution_count": 12,
   "metadata": {
    "collapsed": true
   },
   "outputs": [],
   "source": [
    "np.savetxt('../../Datasets/costs.csv',weight,delimiter=',')"
   ]
  },
  {
   "cell_type": "code",
   "execution_count": 96,
   "metadata": {},
   "outputs": [],
   "source": [
    "treshold = 0.2\n",
    "weight[weight<treshold] = 0"
   ]
  },
  {
   "cell_type": "code",
   "execution_count": 97,
   "metadata": {},
   "outputs": [
    {
     "data": {
      "image/png": "[encoded data removed]",
      "text/plain": [
       "<matplotlib.figure.Figure at 0x29bdd3de5c0>"
      ]
     },
     "metadata": {},
     "output_type": "display_data"
    }
   ],
   "source": [
    "# after sparsifying\n",
    "plt.rcParams['figure.figsize'] = (17, 5)\n",
    "plt.hist(weight.reshape(-1), bins=50)\n",
    "plt.show()"
   ]
  },
  {
   "cell_type": "code",
   "execution_count": 14,
   "metadata": {},
   "outputs": [
    {
     "name": "stderr",
     "output_type": "stream",
     "text": [
      "C:\\Users\\novak\\Anaconda3\\lib\\site-packages\\ipykernel_launcher.py:1: RuntimeWarning: invalid value encountered in greater\n",
      "  \"\"\"Entry point for launching an IPython kernel.\n"
     ]
    },
    {
     "data": {
      "text/plain": [
       "61.13765855687253"
      ]
     },
     "execution_count": 14,
     "metadata": {},
     "output_type": "execute_result"
    }
   ],
   "source": [
    "len(weight[np.where( weight > 0 )]) / costs.shape[0]"
   ]
  },
  {
   "cell_type": "code",
   "execution_count": 62,
   "metadata": {},
   "outputs": [
    {
     "data": {
      "text/plain": [
       "0.0055624870035350382"
      ]
     },
     "execution_count": 62,
     "metadata": {},
     "output_type": "execute_result"
    }
   ],
   "source": [
    "np.mean(costs[500])"
   ]
  },
  {
   "cell_type": "code",
   "execution_count": 61,
   "metadata": {},
   "outputs": [
    {
     "data": {
      "text/plain": [
       "0.010619363934216888"
      ]
     },
     "execution_count": 61,
     "metadata": {},
     "output_type": "execute_result"
    }
   ],
   "source": [
    "np.mean(cosine[500])"
   ]
  },
  {
   "cell_type": "code",
   "execution_count": 77,
   "metadata": {},
   "outputs": [
    {
     "data": {
      "text/plain": [
       "0.0060566749089624571"
      ]
     },
     "execution_count": 77,
     "metadata": {},
     "output_type": "execute_result"
    }
   ],
   "source": [
    "np.mean(weight[500])"
   ]
  },
  {
   "cell_type": "code",
   "execution_count": 15,
   "metadata": {
    "collapsed": true
   },
   "outputs": [],
   "source": [
    "G = nx.from_numpy_matrix(weight)"
   ]
  },
  {
   "cell_type": "code",
   "execution_count": 16,
   "metadata": {
    "collapsed": true
   },
   "outputs": [],
   "source": [
    "knn = nx.k_nearest_neighbors(G)"
   ]
  },
  {
   "cell_type": "code",
   "execution_count": 17,
   "metadata": {
    "collapsed": true
   },
   "outputs": [],
   "source": [
    "n = 10 \n",
    "reduce_G = nx.ego_graph(G, n, radius=1, center=True, undirected=False, distance=None)"
   ]
  },
  {
   "cell_type": "code",
   "execution_count": null,
   "metadata": {
    "collapsed": true
   },
   "outputs": [],
   "source": []
  },
  {
   "cell_type": "code",
   "execution_count": 86,
   "metadata": {},
   "outputs": [
    {
     "name": "stderr",
     "output_type": "stream",
     "text": [
      "C:\\Users\\novak\\Anaconda3\\lib\\site-packages\\matplotlib\\axes\\_axes.py:7319: RuntimeWarning: invalid value encountered in greater\n",
      "  mask = np.absolute(Z) > precision\n"
     ]
    },
    {
     "data": {
      "image/png": "[encoded data removed]",
      "text/plain": [
       "<matplotlib.figure.Figure at 0x29bdde7a780>"
      ]
     },
     "metadata": {},
     "output_type": "display_data"
    }
   ],
   "source": [
    "plt.spy(weight)\n",
    "plt.show()"
   ]
  },
  {
   "cell_type": "code",
   "execution_count": 87,
   "metadata": {},
   "outputs": [
    {
     "data": {
      "text/plain": [
       "array([[ 0.        ,         nan,         nan, ...,         nan,\n",
       "                nan,         nan],\n",
       "       [ 0.        ,  0.        ,  0.        , ...,  0.        ,\n",
       "         0.        ,  0.        ],\n",
       "       [ 0.        ,  0.        ,  0.        , ...,  0.02505487,\n",
       "         0.        ,  0.02338262],\n",
       "       ..., \n",
       "       [ 0.        ,  0.        ,  0.02505487, ...,  0.        ,\n",
       "         0.06506   ,  0.03456506],\n",
       "       [ 0.        ,  0.        ,  0.        , ...,  0.06506   ,\n",
       "         0.        ,  0.03035884],\n",
       "       [ 0.        ,  0.        ,  0.02338262, ...,  0.03456506,\n",
       "         0.03035884,  0.        ]])"
      ]
     },
     "execution_count": 87,
     "metadata": {},
     "output_type": "execute_result"
    }
   ],
   "source": [
    "weight"
   ]
  },
  {
   "cell_type": "code",
   "execution_count": 88,
   "metadata": {},
   "outputs": [
    {
     "name": "stdout",
     "output_type": "stream",
     "text": [
      "0.355581897652306\n",
      "2.0\n",
      "0.0\n"
     ]
    }
   ],
   "source": [
    "# converting nan to 0\n",
    "np.count_nonzero(weight)\n",
    "# how much <>0\n",
    "print(np.count_nonzero(weight)/len(costs)**2)\n",
    "print(max(weight.reshape(-1)))\n",
    "print(min(weight.reshape(-1)))\n",
    "weight[np.isnan(weight)]=0"
   ]
  },
  {
   "cell_type": "code",
   "execution_count": 89,
   "metadata": {},
   "outputs": [
    {
     "data": {
      "image/png": "[encoded data removed]",
      "text/plain": [
       "<matplotlib.figure.Figure at 0x29bde0cb7f0>"
      ]
     },
     "metadata": {},
     "output_type": "display_data"
    }
   ],
   "source": [
    "# weight distribution\n",
    "plt.rcParams['figure.figsize'] = (17, 5)\n",
    "plt.hist(weight.reshape(-1), bins=50)\n",
    "plt.show()"
   ]
  },
  {
   "cell_type": "code",
   "execution_count": 90,
   "metadata": {},
   "outputs": [
    {
     "name": "stdout",
     "output_type": "stream",
     "text": [
      "[[  0.00000000e+00   1.00000000e+00   1.00000000e+00 ...,   1.00000000e+00\n",
      "    1.00000000e+00   1.00000000e+00]\n",
      " [  1.00000000e+00   0.00000000e+00   1.00000000e+00 ...,   1.00000000e+00\n",
      "    1.00000000e+00   1.00000000e+00]\n",
      " [  1.00000000e+00   1.00000000e+00   0.00000000e+00 ...,   1.36344079e-01\n",
      "    1.00000000e+00   1.76317783e-01]\n",
      " ..., \n",
      " [  1.00000000e+00   1.00000000e+00   1.36344079e-01 ...,   0.00000000e+00\n",
      "    1.46209663e-06   2.25432974e-02]\n",
      " [  1.00000000e+00   1.00000000e+00   1.00000000e+00 ...,   1.46209663e-06\n",
      "    0.00000000e+00   5.36377556e-02]\n",
      " [  1.00000000e+00   1.00000000e+00   1.76317783e-01 ...,   2.25432974e-02\n",
      "    5.36377556e-02   0.00000000e+00]]\n"
     ]
    }
   ],
   "source": [
    "# getting the weights after Gaussian kernel\n",
    "kernel_width = weight.mean()\n",
    "# Your code here.\n",
    "# multiplication of two 1d np.arrays, using the np's matrices\n",
    "w = np.exp(-(weight/kernel_width).T*(weight/kernel_width))\n",
    "np.fill_diagonal(w,0)\n",
    "print(w)"
   ]
  },
  {
   "cell_type": "code",
   "execution_count": 91,
   "metadata": {
    "scrolled": true
   },
   "outputs": [
    {
     "name": "stdout",
     "output_type": "stream",
     "text": [
      "0.0\n",
      "(array([], dtype=int64), array([], dtype=int64))\n"
     ]
    },
    {
     "data": {
      "image/png": "[encoded data removed]",
      "text/plain": [
       "<matplotlib.figure.Figure at 0x29bde3ad550>"
      ]
     },
     "metadata": {},
     "output_type": "display_data"
    }
   ],
   "source": [
    "# sparsifying the distance matrix using kN and plotting before and after distribution\n",
    "\n",
    "fix, axes = plt.subplots(2, 2, figsize=(17, 8))\n",
    "def plot(weights, axes):\n",
    "    axes[0].spy(weights)\n",
    "    axes[1].hist(weights[weights > 0].reshape(-1), bins=50);\n",
    "plot(w, axes[:, 0])\n",
    "\n",
    "NEIGHBORS = 100\n",
    "# Your code here.\n",
    "weights_sparse = np.zeros_like(w)\n",
    "print(sum(sum(weights_sparse)))\n",
    "\n",
    "for i in range(w.shape[0]):\n",
    "    keep_column= list(set(np.argsort(w[:,i])[-NEIGHBORS:]))   \n",
    "    weights_sparse[keep_column,i] = w[keep_column,i]\n",
    "    \n",
    "bigger = weights_sparse.transpose() > weights_sparse\n",
    "weights_sparse = weights_sparse - weights_sparse*bigger + weights_sparse.transpose()*bigger\n",
    "#dict_discard[i] = list(set_both)\n",
    "\n",
    "print(np.nonzero(weights_sparse-weights_sparse.transpose()))\n",
    "plot(weights_sparse, axes[:, 1])\n",
    "plt.show()"
   ]
  },
  {
   "cell_type": "code",
   "execution_count": null,
   "metadata": {
    "collapsed": true
   },
   "outputs": [],
   "source": []
  }
 ],
 "metadata": {
  "kernelspec": {
   "display_name": "Python 3",
   "language": "python",
   "name": "python3"
  },
  "language_info": {
   "codemirror_mode": {
    "name": "ipython",
    "version": 3
   },
   "file_extension": ".py",
   "mimetype": "text/x-python",
   "name": "python",
   "nbconvert_exporter": "python",
   "pygments_lexer": "ipython3",
   "version": "3.6.2"
  }
 },
 "nbformat": 4,
 "nbformat_minor": 2
}
