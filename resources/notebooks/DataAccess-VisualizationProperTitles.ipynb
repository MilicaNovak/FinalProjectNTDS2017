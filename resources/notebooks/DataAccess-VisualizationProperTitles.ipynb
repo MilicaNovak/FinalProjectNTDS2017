{
 "cells": [
  {
   "cell_type": "code",
   "execution_count": 1,
   "metadata": {
    "collapsed": true
   },
   "outputs": [],
   "source": [
    "import sys, os, pathlib\n",
    "#setting the path to folder with modules\n",
    "sys.path.insert(0, str(pathlib.Path(os.getcwd()).parents[1] / 'python'))\n",
    "from Load_Datasets import *"
   ]
  },
  {
   "cell_type": "code",
   "execution_count": 2,
   "metadata": {
    "collapsed": true
   },
   "outputs": [],
   "source": [
    "FileAddress_movies =\"../../Datasets/tmdb_5000_movies.csv\"\n",
    "FileAddress_credits=\"../../Datasets/tmdb_5000_credits.csv\""
   ]
  },
  {
   "cell_type": "code",
   "execution_count": 3,
   "metadata": {
    "collapsed": true
   },
   "outputs": [],
   "source": [
    "#Loading information about movies\n",
    "Movies,Credentials  = Load_Datasets(FileAddress_movies,FileAddress_credits)\n",
    "\n",
    "Drops = ['homepage','status','id']\n",
    "for drop in Drops:\n",
    "    Movies = Movies.drop(drop, 1)\n",
    "        \n",
    "Movies.to_csv(\"../../Datasets/Transformed.csv\")\n",
    "#print(Movies.dtypes)\n",
    "#read arrays from string using string.split(\",\")"
   ]
  },
  {
   "cell_type": "code",
   "execution_count": 4,
   "metadata": {},
   "outputs": [
    {
     "data": {
      "text/html": [
       "<div>\n",
       "<style>\n",
       "    .dataframe thead tr:only-child th {\n",
       "        text-align: right;\n",
       "    }\n",
       "\n",
       "    .dataframe thead th {\n",
       "        text-align: left;\n",
       "    }\n",
       "\n",
       "    .dataframe tbody tr th {\n",
       "        vertical-align: top;\n",
       "    }\n",
       "</style>\n",
       "<table border=\"1\" class=\"dataframe\">\n",
       "  <thead>\n",
       "    <tr style=\"text-align: right;\">\n",
       "      <th></th>\n",
       "      <th>budget</th>\n",
       "      <th>genres</th>\n",
       "      <th>keywords</th>\n",
       "      <th>original_language</th>\n",
       "      <th>original_title</th>\n",
       "      <th>overview</th>\n",
       "      <th>popularity</th>\n",
       "      <th>production_companies</th>\n",
       "      <th>production_countries</th>\n",
       "      <th>release_date</th>\n",
       "      <th>...</th>\n",
       "      <th>genres_id</th>\n",
       "      <th>keywords_id</th>\n",
       "      <th>production_companies_id</th>\n",
       "      <th>actors</th>\n",
       "      <th>actors_id</th>\n",
       "      <th>actor_gender</th>\n",
       "      <th>crew_names</th>\n",
       "      <th>crew_names_id</th>\n",
       "      <th>crew_jobs</th>\n",
       "      <th>crew_departments</th>\n",
       "    </tr>\n",
       "    <tr>\n",
       "      <th>title</th>\n",
       "      <th></th>\n",
       "      <th></th>\n",
       "      <th></th>\n",
       "      <th></th>\n",
       "      <th></th>\n",
       "      <th></th>\n",
       "      <th></th>\n",
       "      <th></th>\n",
       "      <th></th>\n",
       "      <th></th>\n",
       "      <th></th>\n",
       "      <th></th>\n",
       "      <th></th>\n",
       "      <th></th>\n",
       "      <th></th>\n",
       "      <th></th>\n",
       "      <th></th>\n",
       "      <th></th>\n",
       "      <th></th>\n",
       "      <th></th>\n",
       "      <th></th>\n",
       "    </tr>\n",
       "  </thead>\n",
       "  <tbody>\n",
       "    <tr>\n",
       "      <th>[REC]²</th>\n",
       "      <td>5600000</td>\n",
       "      <td>Thriller,Horror</td>\n",
       "      <td>religion and supernatural,blood sample,occult,...</td>\n",
       "      <td>es</td>\n",
       "      <td>[REC]²</td>\n",
       "      <td>The action continues from [REC], with the medi...</td>\n",
       "      <td>22.341462</td>\n",
       "      <td>Filmax</td>\n",
       "      <td>Spain</td>\n",
       "      <td>2009-09-15</td>\n",
       "      <td>...</td>\n",
       "      <td>53,27</td>\n",
       "      <td>3684,4035,156174,156788,159287,160194,160195,1...</td>\n",
       "      <td>3631</td>\n",
       "      <td>Manuela Velasco,Ferran Terraza,Claudia Silva,J...</td>\n",
       "      <td>34793,54532,111091,111090,54520,54523,19824,11...</td>\n",
       "      <td>1,0,0,0,2,1,1,0,1,2,0,0,2</td>\n",
       "      <td>Jaume Balagueró,Jaume Balagueró,Paco Plaza,Pac...</td>\n",
       "      <td>54525,54525,54526,54526,126770</td>\n",
       "      <td>Screenplay,Director,Screenplay,Director,Screen...</td>\n",
       "      <td>Writing,Directing,Writing,Directing,Writing</td>\n",
       "    </tr>\n",
       "    <tr>\n",
       "      <th>eXistenZ</th>\n",
       "      <td>15000000</td>\n",
       "      <td>Action,Thriller,Science Fiction,Horror</td>\n",
       "      <td>video game,hacker,bodyguard,pop star,virtual r...</td>\n",
       "      <td>en</td>\n",
       "      <td>eXistenZ</td>\n",
       "      <td>A game designer on the run from assassins must...</td>\n",
       "      <td>21.928025</td>\n",
       "      <td>Alliance Atlantis Communications,Natural Nylon...</td>\n",
       "      <td>Canada,France,United Kingdom</td>\n",
       "      <td>1999-04-14</td>\n",
       "      <td>...</td>\n",
       "      <td>28,53,878,27</td>\n",
       "      <td>282,2157,3088,3490,4563,4565,5380</td>\n",
       "      <td>803,804,805,806,807,808,809,20170</td>\n",
       "      <td>Jennifer Jason Leigh,Jude Law,Ian Holm,Willem ...</td>\n",
       "      <td>10431,9642,65,5293,20173,20174,540,2040,98,201...</td>\n",
       "      <td>1,2,2,2,2,2,2,2,1,2,2,2,1,2,0,1,2</td>\n",
       "      <td>David Cronenberg,David Cronenberg,David Cronen...</td>\n",
       "      <td>224,224,224,307,307,310,117,2688,8315,11229,13...</td>\n",
       "      <td>Director,Screenplay,Producer,Director of Photo...</td>\n",
       "      <td>Directing,Writing,Production,Camera,Camera,Edi...</td>\n",
       "    </tr>\n",
       "    <tr>\n",
       "      <th>xXx</th>\n",
       "      <td>70000000</td>\n",
       "      <td>Action,Adventure,Thriller</td>\n",
       "      <td>sports car,biological weapon,cold war,russian,...</td>\n",
       "      <td>en</td>\n",
       "      <td>xXx</td>\n",
       "      <td>Xander Cage is your standard adrenaline junkie...</td>\n",
       "      <td>46.217769</td>\n",
       "      <td>Columbia Pictures,Original Film,Revolution Stu...</td>\n",
       "      <td>United States of America</td>\n",
       "      <td>2002-08-09</td>\n",
       "      <td>...</td>\n",
       "      <td>28,12,53</td>\n",
       "      <td>999,1865,2106,2808,3530,10364,10456,217142,234...</td>\n",
       "      <td>5,333,497</td>\n",
       "      <td>Vin Diesel,Asia Argento,Samuel L. Jackson,Dann...</td>\n",
       "      <td>12835,18514,2231,11160,65240,20982,53347,2341,...</td>\n",
       "      <td>2,1,2,2,1,2,0,0,2,2,2,2,0,2,2,2,2,0,2,0</td>\n",
       "      <td>Ronna Kress,Chris Lebenzon,Paul Rubell,Sanja M...</td>\n",
       "      <td>1720,541,10816,2519,4501,4854,4856,10631,10632...</td>\n",
       "      <td>Casting,Editor,Editor,Costume Design,Director ...</td>\n",
       "      <td>Production,Editing,Editing,Costume &amp; Make-Up,C...</td>\n",
       "    </tr>\n",
       "    <tr>\n",
       "      <th>xXx: State of the Union</th>\n",
       "      <td>60000000</td>\n",
       "      <td>Action,Adventure,Crime,Drama,Mystery,Thriller</td>\n",
       "      <td>washington d.c.,helicopter,usa president,gener...</td>\n",
       "      <td>en</td>\n",
       "      <td>xXx: State of the Union</td>\n",
       "      <td>Ice Cube stars as Darius Stone, a thrill-seeki...</td>\n",
       "      <td>36.689223</td>\n",
       "      <td>Original Film,Columbia Pictures Corporation,Re...</td>\n",
       "      <td>United States of America</td>\n",
       "      <td>2005-04-27</td>\n",
       "      <td>...</td>\n",
       "      <td>28,12,80,18,9648,53</td>\n",
       "      <td>521,720,840,1402,6285,9358,9610,33705,160992,1...</td>\n",
       "      <td>333,441,497</td>\n",
       "      <td>Ice Cube,Samuel L. Jackson,Willem Dafoe,Scott ...</td>\n",
       "      <td>9778,2231,5293,100,21368,336,53347,58707,18286...</td>\n",
       "      <td>2,2,2,2,2,2,0,1,1,2,2,2,0,2,0</td>\n",
       "      <td>Mark Goldblatt,Christopher Boyes,Bill Abbott,S...</td>\n",
       "      <td>898,900,1305,2484,2519,7229,10631,6347,6800,72...</td>\n",
       "      <td>Editor,Sound Designer,Music Editor,Editor,Cost...</td>\n",
       "      <td>Editing,Sound,Sound,Editing,Costume &amp; Make-Up,...</td>\n",
       "    </tr>\n",
       "    <tr>\n",
       "      <th>Æon Flux</th>\n",
       "      <td>62000000</td>\n",
       "      <td>Action,Science Fiction</td>\n",
       "      <td>martial arts,dystopia,surrealism,based on cart...</td>\n",
       "      <td>en</td>\n",
       "      <td>Æon Flux</td>\n",
       "      <td>400 years into the future, disease has wiped o...</td>\n",
       "      <td>29.954302</td>\n",
       "      <td>Paramount Pictures,Lakeshore Entertainment,MTV...</td>\n",
       "      <td>United States of America</td>\n",
       "      <td>2005-11-30</td>\n",
       "      <td>...</td>\n",
       "      <td>28,878</td>\n",
       "      <td>779,4565,9887,10244,10950,11134,11829,12190,14...</td>\n",
       "      <td>4,126,746,6041,11533,11534</td>\n",
       "      <td>Charlize Theron,Marton Csokas,Jonny Lee Miller...</td>\n",
       "      <td>6885,20982,9012,2598,3910,4935,23496,25448,198...</td>\n",
       "      <td>1,2,2,1,1,2,1,1,2,2,1,1,2,2,0,2,1,2,2,0,0,0,0,...</td>\n",
       "      <td>Tom Rosenberg,Gale Anne Hurd,Graeme Revell,Gar...</td>\n",
       "      <td>68602,869,5912,3953,6875,7262,10969,10903,1090...</td>\n",
       "      <td>Executive Producer,Producer,Original Music Com...</td>\n",
       "      <td>Production,Production,Sound,Production,Editing...</td>\n",
       "    </tr>\n",
       "  </tbody>\n",
       "</table>\n",
       "<p>5 rows × 26 columns</p>\n",
       "</div>"
      ],
      "text/plain": [
       "                           budget  \\\n",
       "title                               \n",
       "[REC]²                    5600000   \n",
       "eXistenZ                 15000000   \n",
       "xXx                      70000000   \n",
       "xXx: State of the Union  60000000   \n",
       "Æon Flux                 62000000   \n",
       "\n",
       "                                                                genres  \\\n",
       "title                                                                    \n",
       "[REC]²                                                 Thriller,Horror   \n",
       "eXistenZ                        Action,Thriller,Science Fiction,Horror   \n",
       "xXx                                          Action,Adventure,Thriller   \n",
       "xXx: State of the Union  Action,Adventure,Crime,Drama,Mystery,Thriller   \n",
       "Æon Flux                                        Action,Science Fiction   \n",
       "\n",
       "                                                                  keywords  \\\n",
       "title                                                                        \n",
       "[REC]²                   religion and supernatural,blood sample,occult,...   \n",
       "eXistenZ                 video game,hacker,bodyguard,pop star,virtual r...   \n",
       "xXx                      sports car,biological weapon,cold war,russian,...   \n",
       "xXx: State of the Union  washington d.c.,helicopter,usa president,gener...   \n",
       "Æon Flux                 martial arts,dystopia,surrealism,based on cart...   \n",
       "\n",
       "                        original_language           original_title  \\\n",
       "title                                                                \n",
       "[REC]²                                 es                   [REC]²   \n",
       "eXistenZ                               en                 eXistenZ   \n",
       "xXx                                    en                      xXx   \n",
       "xXx: State of the Union                en  xXx: State of the Union   \n",
       "Æon Flux                               en                 Æon Flux   \n",
       "\n",
       "                                                                  overview  \\\n",
       "title                                                                        \n",
       "[REC]²                   The action continues from [REC], with the medi...   \n",
       "eXistenZ                 A game designer on the run from assassins must...   \n",
       "xXx                      Xander Cage is your standard adrenaline junkie...   \n",
       "xXx: State of the Union  Ice Cube stars as Darius Stone, a thrill-seeki...   \n",
       "Æon Flux                 400 years into the future, disease has wiped o...   \n",
       "\n",
       "                         popularity  \\\n",
       "title                                 \n",
       "[REC]²                    22.341462   \n",
       "eXistenZ                  21.928025   \n",
       "xXx                       46.217769   \n",
       "xXx: State of the Union   36.689223   \n",
       "Æon Flux                  29.954302   \n",
       "\n",
       "                                                      production_companies  \\\n",
       "title                                                                        \n",
       "[REC]²                                                              Filmax   \n",
       "eXistenZ                 Alliance Atlantis Communications,Natural Nylon...   \n",
       "xXx                      Columbia Pictures,Original Film,Revolution Stu...   \n",
       "xXx: State of the Union  Original Film,Columbia Pictures Corporation,Re...   \n",
       "Æon Flux                 Paramount Pictures,Lakeshore Entertainment,MTV...   \n",
       "\n",
       "                                 production_countries release_date  \\\n",
       "title                                                                \n",
       "[REC]²                                          Spain   2009-09-15   \n",
       "eXistenZ                 Canada,France,United Kingdom   1999-04-14   \n",
       "xXx                          United States of America   2002-08-09   \n",
       "xXx: State of the Union      United States of America   2005-04-27   \n",
       "Æon Flux                     United States of America   2005-11-30   \n",
       "\n",
       "                                               ...                          \\\n",
       "title                                          ...                           \n",
       "[REC]²                                         ...                           \n",
       "eXistenZ                                       ...                           \n",
       "xXx                                            ...                           \n",
       "xXx: State of the Union                        ...                           \n",
       "Æon Flux                                       ...                           \n",
       "\n",
       "                                   genres_id  \\\n",
       "title                                          \n",
       "[REC]²                                 53,27   \n",
       "eXistenZ                        28,53,878,27   \n",
       "xXx                                 28,12,53   \n",
       "xXx: State of the Union  28,12,80,18,9648,53   \n",
       "Æon Flux                              28,878   \n",
       "\n",
       "                                                               keywords_id  \\\n",
       "title                                                                        \n",
       "[REC]²                   3684,4035,156174,156788,159287,160194,160195,1...   \n",
       "eXistenZ                                 282,2157,3088,3490,4563,4565,5380   \n",
       "xXx                      999,1865,2106,2808,3530,10364,10456,217142,234...   \n",
       "xXx: State of the Union  521,720,840,1402,6285,9358,9610,33705,160992,1...   \n",
       "Æon Flux                 779,4565,9887,10244,10950,11134,11829,12190,14...   \n",
       "\n",
       "                                   production_companies_id  \\\n",
       "title                                                        \n",
       "[REC]²                                                3631   \n",
       "eXistenZ                 803,804,805,806,807,808,809,20170   \n",
       "xXx                                              5,333,497   \n",
       "xXx: State of the Union                        333,441,497   \n",
       "Æon Flux                        4,126,746,6041,11533,11534   \n",
       "\n",
       "                                                                    actors  \\\n",
       "title                                                                        \n",
       "[REC]²                   Manuela Velasco,Ferran Terraza,Claudia Silva,J...   \n",
       "eXistenZ                 Jennifer Jason Leigh,Jude Law,Ian Holm,Willem ...   \n",
       "xXx                      Vin Diesel,Asia Argento,Samuel L. Jackson,Dann...   \n",
       "xXx: State of the Union  Ice Cube,Samuel L. Jackson,Willem Dafoe,Scott ...   \n",
       "Æon Flux                 Charlize Theron,Marton Csokas,Jonny Lee Miller...   \n",
       "\n",
       "                                                                 actors_id  \\\n",
       "title                                                                        \n",
       "[REC]²                   34793,54532,111091,111090,54520,54523,19824,11...   \n",
       "eXistenZ                 10431,9642,65,5293,20173,20174,540,2040,98,201...   \n",
       "xXx                      12835,18514,2231,11160,65240,20982,53347,2341,...   \n",
       "xXx: State of the Union  9778,2231,5293,100,21368,336,53347,58707,18286...   \n",
       "Æon Flux                 6885,20982,9012,2598,3910,4935,23496,25448,198...   \n",
       "\n",
       "                                                              actor_gender  \\\n",
       "title                                                                        \n",
       "[REC]²                                           1,0,0,0,2,1,1,0,1,2,0,0,2   \n",
       "eXistenZ                                 1,2,2,2,2,2,2,2,1,2,2,2,1,2,0,1,2   \n",
       "xXx                                2,1,2,2,1,2,0,0,2,2,2,2,0,2,2,2,2,0,2,0   \n",
       "xXx: State of the Union                      2,2,2,2,2,2,0,1,1,2,2,2,0,2,0   \n",
       "Æon Flux                 1,2,2,1,1,2,1,1,2,2,1,1,2,2,0,2,1,2,2,0,0,0,0,...   \n",
       "\n",
       "                                                                crew_names  \\\n",
       "title                                                                        \n",
       "[REC]²                   Jaume Balagueró,Jaume Balagueró,Paco Plaza,Pac...   \n",
       "eXistenZ                 David Cronenberg,David Cronenberg,David Cronen...   \n",
       "xXx                      Ronna Kress,Chris Lebenzon,Paul Rubell,Sanja M...   \n",
       "xXx: State of the Union  Mark Goldblatt,Christopher Boyes,Bill Abbott,S...   \n",
       "Æon Flux                 Tom Rosenberg,Gale Anne Hurd,Graeme Revell,Gar...   \n",
       "\n",
       "                                                             crew_names_id  \\\n",
       "title                                                                        \n",
       "[REC]²                                      54525,54525,54526,54526,126770   \n",
       "eXistenZ                 224,224,224,307,307,310,117,2688,8315,11229,13...   \n",
       "xXx                      1720,541,10816,2519,4501,4854,4856,10631,10632...   \n",
       "xXx: State of the Union  898,900,1305,2484,2519,7229,10631,6347,6800,72...   \n",
       "Æon Flux                 68602,869,5912,3953,6875,7262,10969,10903,1090...   \n",
       "\n",
       "                                                                 crew_jobs  \\\n",
       "title                                                                        \n",
       "[REC]²                   Screenplay,Director,Screenplay,Director,Screen...   \n",
       "eXistenZ                 Director,Screenplay,Producer,Director of Photo...   \n",
       "xXx                      Casting,Editor,Editor,Costume Design,Director ...   \n",
       "xXx: State of the Union  Editor,Sound Designer,Music Editor,Editor,Cost...   \n",
       "Æon Flux                 Executive Producer,Producer,Original Music Com...   \n",
       "\n",
       "                                                          crew_departments  \n",
       "title                                                                       \n",
       "[REC]²                         Writing,Directing,Writing,Directing,Writing  \n",
       "eXistenZ                 Directing,Writing,Production,Camera,Camera,Edi...  \n",
       "xXx                      Production,Editing,Editing,Costume & Make-Up,C...  \n",
       "xXx: State of the Union  Editing,Sound,Sound,Editing,Costume & Make-Up,...  \n",
       "Æon Flux                 Production,Production,Sound,Production,Editing...  \n",
       "\n",
       "[5 rows x 26 columns]"
      ]
     },
     "execution_count": 4,
     "metadata": {},
     "output_type": "execute_result"
    }
   ],
   "source": [
    "Movies.tail(5)"
   ]
  },
  {
   "cell_type": "markdown",
   "metadata": {},
   "source": [
    "Here we will present distributions of different features of the movies, i.e. movies budget, revenue, average vote, vote counts, popularity, number of actors and number of movies cast."
   ]
  },
  {
   "cell_type": "code",
   "execution_count": 37,
   "metadata": {},
   "outputs": [
    {
     "data": {
      "image/png": "[encoded data removed]",
      "text/plain": [
       "<matplotlib.figure.Figure at 0x1f6e3528be0>"
      ]
     },
     "metadata": {},
     "output_type": "display_data"
    }
   ],
   "source": [
    "import seaborn as sns\n",
    "import matplotlib.pyplot as plt\n",
    "import matplotlib\n",
    "% matplotlib inline\n",
    "fontsizes = 15\n",
    "matplotlib.rcParams.update({'font.size': fontsizes})\n",
    "fig, axes = plt.subplots(figsize=(15, 5))\n",
    "\n",
    "g = sns.distplot(Movies['budget'], kde=False, rug=False)\n",
    "plt.xlim(0*1e8,2.5*1e8)\n",
    "res = 0.1*1e8\n",
    "start, stop = axes.get_xlim()\n",
    "tick = np.arange(start, stop + res, res)\n",
    "axes.set_xticks(tick)\n",
    "g.set(title='Histogram by the movies budget')\n",
    "g.xaxis.set_major_formatter(matplotlib.ticker.ScalarFormatter(useMathText=True, useOffset=False))\n",
    "plt.show()"
   ]
  },
  {
   "cell_type": "markdown",
   "metadata": {},
   "source": [
    "We can notice the distribution of budget is tailed, there is a lot of movies with low budget less than $10^{7}$, and a small number of movies with budget grater than  $10^{7}$"
   ]
  },
  {
   "cell_type": "code",
   "execution_count": 31,
   "metadata": {},
   "outputs": [
    {
     "data": {
      "image/png": "[encoded data removed]",
      "text/plain": [
       "<matplotlib.figure.Figure at 0x1f6e3407630>"
      ]
     },
     "metadata": {},
     "output_type": "display_data"
    }
   ],
   "source": [
    "fig, axes = plt.subplots(figsize=(15, 5))\n",
    "\n",
    "g = sns.distplot(Movies['revenue'], kde=False, rug=False)\n",
    "plt.xlim(0*1e8, 8*1e8) \n",
    "g.set(title='Histogram by the movies revenue')\n",
    "res = 0.5*1e8\n",
    "start, stop = axes.get_xlim()\n",
    "tick = np.arange(start, stop + res, res)\n",
    "axes.set_xticks(tick)\n",
    "#my_bins = np.arange(min(Movies['revenue']), max(Movies['revenue']) + binwidth, binwidth)\n",
    "#plt.xticks(np.around(my_bins))\n",
    "g.xaxis.set_major_formatter(matplotlib.ticker.ScalarFormatter(useMathText=True, useOffset=False))\n",
    "plt.show()"
   ]
  },
  {
   "cell_type": "markdown",
   "metadata": {},
   "source": [
    "The revenue of the movie has usually value less than $10^{8}$, the its distribution is haevily tailed, and the range of movies revenue is from $(0, 8*10^{8})$"
   ]
  },
  {
   "cell_type": "code",
   "execution_count": null,
   "metadata": {},
   "outputs": [],
   "source": [
    "fig, axes = plt.subplots(figsize=(15, 5))\n",
    "\n",
    "g = sns.distplot(Movies['vote_average'], kde=False, rug=False)\n",
    "plt.xlim(-0.5,11)\n",
    "g.set(title='Histogram by average vote', xlabel = \"average vote\")\n",
    "plt.show()"
   ]
  },
  {
   "cell_type": "markdown",
   "metadata": {},
   "source": [
    "The most frequent vote is less than 7. There is a lot of movies with vote 0, so it could be that 0 is sign that movie has not given the vote"
   ]
  },
  {
   "cell_type": "code",
   "execution_count": null,
   "metadata": {},
   "outputs": [],
   "source": [
    "fig, axes = plt.subplots(figsize=(15, 5))\n",
    "\n",
    "g = sns.distplot(Movies['vote_count'], kde=False, rug=False)\n",
    "plt.xlim(-5,7000)\n",
    "g.set(title='Histogram by vote count', xlabel = \"vote count\")\n",
    "plt.show()"
   ]
  },
  {
   "cell_type": "markdown",
   "metadata": {},
   "source": [
    "Distribution of vote count is tailed, usually movies has less than 200 votes, and vast majority has less than 1000 votes"
   ]
  },
  {
   "cell_type": "code",
   "execution_count": null,
   "metadata": {},
   "outputs": [],
   "source": [
    "fig, axes = plt.subplots(figsize=(15, 5))\n",
    "\n",
    "g = sns.distplot(Movies['popularity'], kde=False, rug=False )\n",
    "plt.xlim(-5,200) \n",
    "g.set(title='Histogram of movies popularity')\n",
    "plt.show()"
   ]
  },
  {
   "cell_type": "markdown",
   "metadata": {},
   "source": [
    "A lot of movies has a low popularity, it seems like 0 popularity is when movie has not given the popularity data "
   ]
  },
  {
   "cell_type": "code",
   "execution_count": null,
   "metadata": {},
   "outputs": [],
   "source": [
    "num_of_elements = lambda x: len(x.split(\",\"))\n",
    "num_of_actors = Movies[\"actors_id\"].apply(num_of_elements)\n",
    "\n",
    "fig, axes = plt.subplots(figsize=(15, 5))\n",
    "\n",
    "g = sns.distplot(num_of_actors, kde=False, rug=False )\n",
    "plt.xlim(-1,200) \n",
    "g.set(title='Histogram of number of actors in movie', xlabel = \"number of actors\")\n",
    "plt.show()"
   ]
  },
  {
   "cell_type": "markdown",
   "metadata": {},
   "source": [
    "The number of actors in the movie most frequently between 10-25, and just a couple of movies has more then 100 actors"
   ]
  },
  {
   "cell_type": "code",
   "execution_count": null,
   "metadata": {},
   "outputs": [],
   "source": [
    "num_of_crew = Movies[\"crew_names_id\"].apply(num_of_elements)\n",
    "\n",
    "fig, axes = plt.subplots(figsize=(15, 5))\n",
    "\n",
    "g = sns.distplot(num_of_crew, kde=False, rug=False )\n",
    "plt.xlim(-5,250) \n",
    "g.set(title='Histogram of number of crew members in movie', xlabel = \"number of crew members\")\n",
    "plt.show()"
   ]
  },
  {
   "cell_type": "markdown",
   "metadata": {},
   "source": [
    "The number of crew members is most times less than 50, and there is some movie up to 200 crew members. It is more frequent to have cast larger than 50 crew members, than 50 actors which is expected"
   ]
  },
  {
   "cell_type": "markdown",
   "metadata": {},
   "source": [
    "Now, we will find the most frequent keywords, crew members, production companies, actors and genres:"
   ]
  },
  {
   "cell_type": "code",
   "execution_count": null,
   "metadata": {
    "collapsed": true
   },
   "outputs": [],
   "source": [
    "keywords_dict = {}\n",
    "\n",
    "for i in range(len(Movies)):\n",
    "    if(len(Movies.iloc[i][\"keywords\"])>0):\n",
    "        for j in range(len(Movies.iloc[i][\"keywords\"].split(\",\"))):\n",
    "            if (len(Movies.iloc[i][\"keywords\"].split(\",\"))>0):\n",
    "                keyword = Movies.iloc[i][\"keywords\"].split(\",\")[j]\n",
    "                keywords_dict[keyword] = keywords_dict.get(keyword, 0) + 1"
   ]
  },
  {
   "cell_type": "code",
   "execution_count": null,
   "metadata": {},
   "outputs": [],
   "source": [
    "how_much_keywords = 15\n",
    "most_freq_keywords = sorted(keywords_dict, key=keywords_dict.get)[-how_much_keywords:]\n",
    "\n",
    "fig, ax = plt.subplots(figsize=(15,5))\n",
    "\n",
    "freq_key_plot = [keywords_dict[most_freq_keywords[len(most_freq_keywords)-1-i]] for i in range(how_much_keywords)]\n",
    "plt.bar(range(how_much_keywords), freq_key_plot)\n",
    "plt.title(\"Most {} frequent keywords\".format(how_much_keywords))\n",
    "plt.xticks(range(how_much_keywords),(most_freq_keywords[::-1]), fontsize=15, rotation=45)\n",
    "plt.show()"
   ]
  },
  {
   "cell_type": "markdown",
   "metadata": {},
   "source": [
    "We can see that some words are very frequent in keywords . Woman director is most used keyword, and having in mind that we have nearly 4800 movies, the women director shows up as keyword in nearly 7% of movies"
   ]
  },
  {
   "cell_type": "code",
   "execution_count": null,
   "metadata": {
    "collapsed": true
   },
   "outputs": [],
   "source": [
    "crew_names_dict = {}\n",
    "\n",
    "for i in range(len(Movies)):\n",
    "    if(len(Movies.iloc[i][\"crew_names\"])>0):\n",
    "        for j in range(len(Movies.iloc[i][\"crew_names\"].split(\",\"))):\n",
    "            if (len(Movies.iloc[i][\"crew_names\"].split(\",\"))>0):\n",
    "                crew = Movies.iloc[i][\"crew_names\"].split(\",\")[j]\n",
    "                crew_names_dict[crew] = crew_names_dict.get(crew, 0) + 1"
   ]
  },
  {
   "cell_type": "code",
   "execution_count": null,
   "metadata": {},
   "outputs": [],
   "source": [
    "how_much_crew = 15\n",
    "most_freq_crew = sorted(crew_names_dict, key=crew_names_dict.get)[-how_much_crew:]\n",
    "\n",
    "fig, ax = plt.subplots(figsize=(15,5))\n",
    "\n",
    "freq_crew_plot = [crew_names_dict[most_freq_crew[len(most_freq_crew)-1-i]] for i in range(how_much_crew)]\n",
    "plt.bar(range(how_much_crew), freq_crew_plot)\n",
    "fontsizes = 15\n",
    "rot = 45\n",
    "plt.rc('axes', titlesize=fontsizes, )\n",
    "plt.title(\"Most 15 frequent crew names\")\n",
    "plt.xticks(range(how_much_crew),(most_freq_crew[::-1]), rotation=rot)\n",
    "plt.show()"
   ]
  },
  {
   "cell_type": "markdown",
   "metadata": {},
   "source": [
    "Here are shown the most frequent 15 crew names. Most working crew member is Robert Rodriguez with more than 100 movies, and the next member has been in nealry 80 movies. After these names, the number of different crew's movies slowly decrease form 80 to 60"
   ]
  },
  {
   "cell_type": "code",
   "execution_count": null,
   "metadata": {
    "collapsed": true
   },
   "outputs": [],
   "source": [
    "production_name_id_dict = {}\n",
    "freq_production_ids = {}\n",
    "\n",
    "for i in range(len(Movies)):\n",
    "    for j in range(len(Movies.iloc[i][\"production_companies_id\"].split(\",\"))):\n",
    "        if (len(Movies.iloc[i][\"production_companies_id\"].split(\",\")[j])>0):\n",
    "            production_id_int_key = int(Movies.iloc[i][\"production_companies_id\"].split(\",\")[j])\n",
    "            freq_production_ids[production_id_int_key] = freq_production_ids.get(production_id_int_key, 0) + 1\n",
    "            production_name_id_dict[production_id_int_key] = Movies.iloc[i][\"production_companies\"].split(\",\")[j]"
   ]
  },
  {
   "cell_type": "code",
   "execution_count": null,
   "metadata": {
    "collapsed": true
   },
   "outputs": [],
   "source": [
    "how_much_production = 15; \n",
    "most_freq_ids = sorted(freq_production_ids, key=freq_production_ids.get)[-how_much_production:]\n",
    "most_freq_production = [production_name_id_dict[key] if ((production_name_id_dict[key]!=\"Twentieth Century Fox Film Corporation\") & (production_name_id_dict[key]!=\"Columbia Pictures Corporation\")) else \"Columbia Pictures\" if (production_name_id_dict[key]==\"Columbia Pictures Corporation\") else \"20th Century\" for key in most_freq_ids]"
   ]
  },
  {
   "cell_type": "code",
   "execution_count": null,
   "metadata": {},
   "outputs": [],
   "source": [
    "fig, ax = plt.subplots(figsize=(15,5))\n",
    "\n",
    "freq_production_plot = [freq_production_ids[most_freq_ids[how_much_production-i-1]] for i in range(how_much_production)]\n",
    "plt.bar(range(how_much_production), freq_production_plot)\n",
    "plt.title(\"Most {} frequent production companies\".format(how_much_production))\n",
    "plt.xticks(range(how_much_production),(most_freq_production[::-1]), rotation=rot)\n",
    "plt.show()"
   ]
  },
  {
   "cell_type": "markdown",
   "metadata": {},
   "source": [
    "Here are shown 15 most frequent production companies. The first three companies has made around 300 movies each which is nearly 20% of all the movies. The next three companies has made more than 150 movies each, and they are followed by the rest top companies who made 100 movies on average. \n",
    "\n",
    "It seems like we have dominant production companies: Warner Bros. Universal Pictures and Paramount Pictures"
   ]
  },
  {
   "cell_type": "code",
   "execution_count": null,
   "metadata": {
    "collapsed": true
   },
   "outputs": [],
   "source": [
    "actors_name_id_dict = {}\n",
    "freq_actors_ids = {}\n",
    "\n",
    "for i in range(len(Movies)):\n",
    "    for j in range(len(Movies.iloc[i][\"actors_id\"].split(\",\"))):\n",
    "        if (len(Movies.iloc[i][\"actors_id\"].split(\",\")[j])>0):\n",
    "            actor_id_int_key = int(Movies.iloc[i][\"actors_id\"].split(\",\")[j])\n",
    "            freq_actors_ids[actor_id_int_key] = freq_actors_ids.get(actor_id_int_key, 0) + 1\n",
    "            actors_name_id_dict[actor_id_int_key] = Movies.iloc[i][\"actors\"].split(\",\")[j]"
   ]
  },
  {
   "cell_type": "code",
   "execution_count": null,
   "metadata": {
    "collapsed": true
   },
   "outputs": [],
   "source": [
    "how_much_actors = 15; \n",
    "most_freq_ids = sorted(freq_actors_ids, key=freq_actors_ids.get)[-how_much_actors:]\n",
    "most_freq_actors = [actors_name_id_dict[key] for key in most_freq_ids]"
   ]
  },
  {
   "cell_type": "code",
   "execution_count": null,
   "metadata": {},
   "outputs": [],
   "source": [
    "fig, ax = plt.subplots(figsize=(15,5))\n",
    "\n",
    "freq_actors_plot = [freq_actors_ids[most_freq_ids[how_much_actors-i-1]] for i in range(how_much_actors)]\n",
    "plt.bar(range(how_much_actors), freq_actors_plot)\n",
    "plt.title(\"Most {} frequent actors\".format(how_much_actors))\n",
    "plt.xticks(range(how_much_actors),(most_freq_actors[::-1]), rotation=rot)\n",
    "plt.show()"
   ]
  },
  {
   "cell_type": "markdown",
   "metadata": {},
   "source": [
    "Here are shown 15 most frequent actors. All of them has shown up in more than 40 movies.\n",
    "The most frequent actor Samuel L. Jaskson has been in nearly 70 movies, after the distribution of the top actors slowly decrease"
   ]
  },
  {
   "cell_type": "code",
   "execution_count": null,
   "metadata": {
    "collapsed": true
   },
   "outputs": [],
   "source": [
    "genres_dict = {}\n",
    "\n",
    "for i in range(len(Movies)):\n",
    "    if(len(Movies.iloc[i][\"genres\"])>0):\n",
    "        for j in range(len(Movies.iloc[i][\"genres\"].split(\",\"))):\n",
    "            if (len(Movies.iloc[i][\"genres\"].split(\",\"))>0):\n",
    "                genre = Movies.iloc[i][\"genres\"].split(\",\")[j]\n",
    "                genres_dict[genre] = genres_dict.get(genre, 0) + 1"
   ]
  },
  {
   "cell_type": "code",
   "execution_count": null,
   "metadata": {
    "collapsed": true
   },
   "outputs": [],
   "source": [
    "how_much_genres = 15\n",
    "most_freq_genres = sorted(genres_dict, key=genres_dict.get)[-how_much_genres:]"
   ]
  },
  {
   "cell_type": "code",
   "execution_count": null,
   "metadata": {},
   "outputs": [],
   "source": [
    "fig, ax = plt.subplots(figsize=(15,5))\n",
    "fontsizes = 15\n",
    "rot = 45\n",
    "\n",
    "freq_genres_plot = [genres_dict[most_freq_genres[len(most_freq_genres)-1-i]] for i in range(how_much_genres)]\n",
    "plt.bar(range(how_much_genres), freq_genres_plot)\n",
    "plt.title(\"Most {} frequent genres\".format(how_much_genres))\n",
    "plt.xticks(range(how_much_genres),(most_freq_genres[::-1]), fontsize = fontsizes, rotation = rot)\n",
    "plt.show()"
   ]
  },
  {
   "cell_type": "markdown",
   "metadata": {
    "collapsed": true
   },
   "source": [
    "Drama, Comedy and Thriller are most frequent genres. It seems like more than 40% movies has drama in its genre description"
   ]
  }
 ],
 "metadata": {
  "kernelspec": {
   "display_name": "Python 3",
   "language": "python",
   "name": "python3"
  },
  "language_info": {
   "codemirror_mode": {
    "name": "ipython",
    "version": 3
   },
   "file_extension": ".py",
   "mimetype": "text/x-python",
   "name": "python",
   "nbconvert_exporter": "python",
   "pygments_lexer": "ipython3",
   "version": "3.6.2"
  }
 },
 "nbformat": 4,
 "nbformat_minor": 2
}
